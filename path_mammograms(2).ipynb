{
 "cells": [
  {
   "cell_type": "code",
   "execution_count": 5,
   "id": "e0a2439b",
   "metadata": {},
   "outputs": [
    {
     "ename": "ModuleNotFoundError",
     "evalue": "No module named 'pandas'",
     "output_type": "error",
     "traceback": [
      "\u001b[0;31m---------------------------------------------------------------------------\u001b[0m",
      "\u001b[0;31mModuleNotFoundError\u001b[0m                       Traceback (most recent call last)",
      "\u001b[0;32m<ipython-input-5-d1655f0bec46>\u001b[0m in \u001b[0;36m<module>\u001b[0;34m\u001b[0m\n\u001b[1;32m      1\u001b[0m \u001b[0;32mimport\u001b[0m \u001b[0mos\u001b[0m\u001b[0;34m\u001b[0m\u001b[0;34m\u001b[0m\u001b[0m\n\u001b[0;32m----> 2\u001b[0;31m \u001b[0;32mimport\u001b[0m \u001b[0mpandas\u001b[0m\u001b[0;34m\u001b[0m\u001b[0;34m\u001b[0m\u001b[0m\n\u001b[0m\u001b[1;32m      3\u001b[0m \u001b[0;34m\u001b[0m\u001b[0m\n\u001b[1;32m      4\u001b[0m \u001b[0;32mdef\u001b[0m \u001b[0mmain\u001b[0m\u001b[0;34m(\u001b[0m\u001b[0;34m)\u001b[0m \u001b[0;34m->\u001b[0m \u001b[0;32mNone\u001b[0m\u001b[0;34m:\u001b[0m\u001b[0;34m\u001b[0m\u001b[0;34m\u001b[0m\u001b[0m\n\u001b[1;32m      5\u001b[0m     \"\"\"\n",
      "\u001b[0;31mModuleNotFoundError\u001b[0m: No module named 'pandas'"
     ]
    }
   ],
   "source": [
    "import os\n",
    "import pandas\n",
    "\n",
    "def main() -> None:\n",
    "    \"\"\"\n",
    "    Initial dataset pre-processing for the CBIS-DDSM dataset:\n",
    "        * Retrieves the path of all images and filters out the cropped images.\n",
    "        * Imports original CSV files with the full image information (patient_id, left or right breast, pathology,\n",
    "        image file path, etc.).\n",
    "        * Filters out the cases with more than one pathology in the original csv files.\n",
    "        * Merges image path which extracted on GPU machine and image pathology which is in the original csv file on image id\n",
    "        * Outputs 4 CSV files.\n",
    "\n",
    "    Generate CSV file columns:\n",
    "      img: image id (e.g Calc-Test_P_00038_LEFT_CC => <case type>_<patient id>_<left or right breast>_<CC or MLO>)\n",
    "      img_path: image path on the GPU machine\n",
    "      label: image pathology (BENIGN or MALIGNANT)\n",
    "    \n",
    "    Originally written as a group for the common pipeline. Later ammended by Adam Jaamour.\n",
    "    \n",
    "    :return: None\n",
    "    \"\"\"\n",
    "    csv_root = '/home/sposso22/Desktop/git_cbis/data'      # original csv folder\n",
    "    img_root = '/home/sposso22/Desktop/Breast_Cancer/CBIS-DDSM'     # dataset folder\n",
    "    csv_output_path = '/home/sposso22/Desktop/git_cbis/dir_real/masks'\n",
    "    # csv output folder\n",
    "\n",
    "    folders = os.listdir(img_root)\n",
    "\n",
    "    cases_dict = dict()  # save image id and path\n",
    "\n",
    "    for f in folders:\n",
    "        if f.endswith('_CC') or f.endswith('_MLO'):  # filter out the cropped images\n",
    "            path = list()\n",
    "\n",
    "            for root, dirs, files in os.walk(img_root + '/' + f):  # retrieve the path of image\n",
    "                for d in dirs:\n",
    "                    path.append(d)\n",
    "                for filename in files:\n",
    "                    path.append(filename)\n",
    "\n",
    "            img_path = img_root + '/' + f + '/' + '/'.join(path)  # generate image path\n",
    "            cases_dict[f] = img_path\n",
    "\n",
    "    df = pd.DataFrame(list(cases_dict.items()), columns=['img', 'img_path'])  # transform image dictionary to dataframe\n",
    "\n",
    "    # image type and csv file name mapping\n",
    "    type_dict = {'Calc-Test': 'calc_case_description_test_set.csv',\n",
    "                 'Calc-Training': 'calc_case_description_train_set.csv',\n",
    "                 'Mass-Test': 'mass_case_description_test_set.csv',\n",
    "                 'Mass-Training': 'mass_case_description_train_set.csv'}\n",
    "\n",
    "    for t in type_dict.keys():  # handle images based on the type\n",
    "        df_subset = df[df['img'].str.startswith(t)]\n",
    "\n",
    "        df_csv = pd.read_csv(csv_root + '/' + type_dict[t],\n",
    "                             usecols=['pathology', 'image file path'])  # read original csv file\n",
    "        df_csv['img'] = df_csv.apply(lambda row: row['image file path'].split('/')[0],\n",
    "                                     axis=1)  # extract image id from the path\n",
    "        df_csv['pathology'] = df_csv.apply(\n",
    "            lambda row: 'BENIGN' if row['pathology'] == 'BENIGN_WITHOUT_CALLBACK' else row['pathology'],\n",
    "            axis=1)  # replace pathology 'BENIGN_WITHOUT_CALLBACK' to 'BENIGN'\n",
    "\n",
    "        df_cnt = pd.DataFrame(\n",
    "            df_csv.groupby(['img'])['pathology'].nunique()).reset_index()  # count dictict pathology for each image id\n",
    "        df_csv = df_csv[~df_csv['img'].isin(\n",
    "            list(df_cnt[df_cnt['pathology'] != 1]['img']))]  # filter out the image with more than one pathology\n",
    "        df_csv = df_csv.drop(columns=['image file path'])\n",
    "        df_csv = df_csv.drop_duplicates(\n",
    "            keep='first')  # remove duplicate data (because original csv list all abnormality area, that make one image id may have more than one record)\n",
    "\n",
    "        df_subset_new = pd.merge(df_subset, df_csv, how='inner',\n",
    "                                 on='img')  # merge image path and image pathology on image id\n",
    "        df_subset_new = df_subset_new.rename(columns={'pathology': 'label'})  # rename column 'pathology' to 'label'\n",
    "        df_subset_new.to_csv(csv_output_path + '/' + t.lower() + '.csv',\n",
    "                             index=False)  # output merged dataframe in csv format\n",
    "\n",
    "        print(t)\n",
    "        print('data_cnt: %d' % len(df_subset_new))\n",
    "        print('multi pathology case:')\n",
    "        print(list(df_cnt[df_cnt['pathology'] != 1]['img']))\n",
    "        print()\n",
    "\n",
    "    print('Finished pre-processing CSV for the CBIS-DDSM dataset.')\n",
    "\n",
    "\n",
    "if __name__ == '__main__':\n",
    "    main()"
   ]
  },
  {
   "cell_type": "code",
   "execution_count": 7,
   "id": "a8785274",
   "metadata": {},
   "outputs": [
    {
     "ename": "ModuleNotFoundError",
     "evalue": "No module named 'pandas'",
     "output_type": "error",
     "traceback": [
      "\u001b[0;31m---------------------------------------------------------------------------\u001b[0m",
      "\u001b[0;31mModuleNotFoundError\u001b[0m                       Traceback (most recent call last)",
      "\u001b[0;32m<ipython-input-7-ca154c91f1ef>\u001b[0m in \u001b[0;36m<module>\u001b[0;34m\u001b[0m\n\u001b[0;32m----> 1\u001b[0;31m \u001b[0;32mimport\u001b[0m \u001b[0mpandas\u001b[0m \u001b[0;32mas\u001b[0m \u001b[0mpd\u001b[0m\u001b[0;34m\u001b[0m\u001b[0;34m\u001b[0m\u001b[0m\n\u001b[0m\u001b[1;32m      2\u001b[0m \u001b[0;34m\u001b[0m\u001b[0m\n",
      "\u001b[0;31mModuleNotFoundError\u001b[0m: No module named 'pandas'"
     ]
    }
   ],
   "source": []
  },
  {
   "cell_type": "code",
   "execution_count": null,
   "id": "6c047032",
   "metadata": {},
   "outputs": [],
   "source": []
  }
 ],
 "metadata": {
  "kernelspec": {
   "display_name": "Python 3",
   "language": "python",
   "name": "python3"
  },
  "language_info": {
   "codemirror_mode": {
    "name": "ipython",
    "version": 3
   },
   "file_extension": ".py",
   "mimetype": "text/x-python",
   "name": "python",
   "nbconvert_exporter": "python",
   "pygments_lexer": "ipython3",
   "version": "3.8.10"
  }
 },
 "nbformat": 4,
 "nbformat_minor": 5
}
