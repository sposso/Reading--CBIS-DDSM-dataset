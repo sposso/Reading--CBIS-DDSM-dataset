{
 "cells": [
  {
   "cell_type": "code",
   "execution_count": 1,
   "id": "4203f1ff",
   "metadata": {},
   "outputs": [],
   "source": [
    "import pandas as pd\n",
    "\n",
    "\n",
    "mass_test_path= pd.read_csv('/home/sposso22/Desktop/git_cbis/dir_real/pruebas/masks/mass-test.csv')\n",
    "calc_test_path=pd.read_csv('/home/sposso22/Desktop/git_cbis/dir_real/pruebas/masks/calc-test.csv')\n",
    "\n",
    "mass_train = pd.read_csv('/home/sposso22/Desktop/git_cbis/dir_real/pruebas/masks/mass-training.csv')\n",
    "calc_train = pd.read_csv('/home/sposso22/Desktop/git_cbis/dir_real/pruebas/masks/calc-training.csv')\n"
   ]
  },
  {
   "cell_type": "code",
   "execution_count": 18,
   "id": "a05cd346",
   "metadata": {},
   "outputs": [],
   "source": [
    "label1 = {\"MALIGNANT\":1 , \"BENIGN\":0}\n",
    "label2 = {\"MALIGNANT\":3 , \"BENIGN\":2}\n",
    "\n",
    "mass_test_path[\"label\"] = mass_test_path.label.map(label1)\n",
    "calc_test_path[\"label\"] = calc_test_path.label.map(label2)\n",
    "\n",
    "mass_train[\"label\"] = mass_train.label.map(label1)\n",
    "calc_train[\"label\"] = calc_train.label.map(label2)"
   ]
  },
  {
   "cell_type": "code",
   "execution_count": 19,
   "id": "59f662d6",
   "metadata": {},
   "outputs": [],
   "source": [
    "Test_mask = pd.concat([mass_test_path,calc_test_path])\n",
    "Train_mam = pd.concat([mass_train,calc_train])"
   ]
  },
  {
   "cell_type": "code",
   "execution_count": 20,
   "id": "88515d70",
   "metadata": {},
   "outputs": [],
   "source": [
    "Train_mam.to_csv('/home/sposso22/Desktop/git_cbis/dir_real/pruebas/masks/Train_mask.csv', index= False)\n",
    "\n",
    "Test_mask.to_csv('/home/sposso22/Desktop/git_cbis/dir_real/pruebas/masks/Test_mask.csv', index= False)"
   ]
  },
  {
   "cell_type": "code",
   "execution_count": 21,
   "id": "44dae159",
   "metadata": {},
   "outputs": [],
   "source": [
    "#concatenate all dataset :\n",
    "test = pd.read_csv('/home/sposso22/Desktop/git_cbis/dir_real/pruebas/FULL_TEST.csv')\n",
    "train = pd.read_csv('/home/sposso22/Desktop/git_cbis/dir_real/pruebas/FULL.csv')\n"
   ]
  },
  {
   "cell_type": "code",
   "execution_count": 28,
   "id": "d7fc174b",
   "metadata": {},
   "outputs": [],
   "source": [
    "cbis_ddsm_dataset = pd.concat([train, test])"
   ]
  },
  {
   "cell_type": "code",
   "execution_count": 29,
   "id": "20650e84",
   "metadata": {},
   "outputs": [],
   "source": [
    "cbis_ddsm_dataset = cbis_ddsm_dataset.reset_index(drop = True )\n"
   ]
  },
  {
   "cell_type": "code",
   "execution_count": 31,
   "id": "c99e80fa",
   "metadata": {},
   "outputs": [],
   "source": [
    "cbis_ddsm_dataset = cbis_ddsm_dataset.drop(columns =['shortened_img_name'])\n",
    "cbis_ddsm_dataset = cbis_ddsm_dataset.rename(columns = {'img_path': 'roi_path','im': 'img_path'})\n",
    "cbis_ddsm_dataset = cbis_ddsm_dataset[['img', 'img_path', 'roi_path', 'label']]"
   ]
  },
  {
   "cell_type": "code",
   "execution_count": 34,
   "id": "49eecf54",
   "metadata": {},
   "outputs": [],
   "source": [
    "cbis_ddsm_dataset.to_csv('/home/sposso22/Desktop/git_cbis/dir_real/pruebas/CBIS_DATASET.csv', index = False)"
   ]
  },
  {
   "cell_type": "code",
   "execution_count": 6,
   "id": "6d1f7ee8",
   "metadata": {},
   "outputs": [
    {
     "data": {
      "text/plain": [
       "6.935564853556487"
      ]
     },
     "execution_count": 6,
     "metadata": {},
     "output_type": "execute_result"
    }
   ],
   "source": []
  },
  {
   "cell_type": "code",
   "execution_count": 5,
   "id": "e14e58a1",
   "metadata": {},
   "outputs": [
    {
     "data": {
      "text/plain": [
       "16.525799824452914"
      ]
     },
     "execution_count": 5,
     "metadata": {},
     "output_type": "execute_result"
    }
   ],
   "source": []
  },
  {
   "cell_type": "code",
   "execution_count": null,
   "id": "2b23e2c8",
   "metadata": {},
   "outputs": [],
   "source": []
  }
 ],
 "metadata": {
  "kernelspec": {
   "display_name": "breast-env",
   "language": "python",
   "name": "breast-env"
  },
  "language_info": {
   "codemirror_mode": {
    "name": "ipython",
    "version": 3
   },
   "file_extension": ".py",
   "mimetype": "text/x-python",
   "name": "python",
   "nbconvert_exporter": "python",
   "pygments_lexer": "ipython3",
   "version": "3.8.10"
  }
 },
 "nbformat": 4,
 "nbformat_minor": 5
}
